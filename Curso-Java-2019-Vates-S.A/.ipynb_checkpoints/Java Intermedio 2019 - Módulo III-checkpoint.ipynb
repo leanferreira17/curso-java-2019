{
 "cells": [
  {
   "cell_type": "markdown",
   "metadata": {},
   "source": [
    "# Java Intermedio - Módulo III"
   ]
  },
  {
   "cell_type": "markdown",
   "metadata": {},
   "source": [
    "### Programa\n",
    "Tipos genéricos y colecciones. Interfaces. List, Set, Queue, Map. Formas de iterar a través de colecciones. Patrones de diseño. Utilización de librerías externas. Introducción a Maven, Hibernate y Java Persistence API (JPA)."
   ]
  },
  {
   "cell_type": "markdown",
   "metadata": {},
   "source": [
    "## Interfaces\n",
    "Una interfaz es como una clase Java pero solo tiene constantes estáticas y métodos abstractos. Java usa la interfaz para implementar herencia múltiple. Una clase Java puede implementar múltiples interfaces Java. Todos los métodos en una interfaz son implícitamente públicos y abstractos.\n",
    "\n",
    "\n",
    "## Diferencias entre Interfaces y Clases Abstractas\n",
    "\n",
    " - La diferencia principal es que los métodos de las interfaces son implicitamente abstractos y no pueden tener implementaciones. Una clase abstracta Java puede tener métodos de instancia que implementan un comportamiento por default.\n",
    " - Todas las variables declaradas en una interface son de tipo final por default. Una clase abstracta puede contener variables que no sean final.\n",
    " - Los miembros de una interface son publicos por default. En una clase abstracta los miembros pueden ser private, public, protected. \n",
    " - Una interface deberia ser implementada utilizando la palabra reservada \"implements\"; una clase abstracta deberia ser heredada utilizando la palabra \"extends\". \n",
    " - Una interface puede heredar solo de otra interface, una clase abstracta puede heredar de otra clase e implementar multiples interfaces.\n",
    " - Una clase puede implementar múltiples interfaces pero solo puede heredar de una clase padre.\n",
    " \n",
    "## Collection\n",
    "\n",
    "Esta interfaz es “la raíz” de todas las interfaces y clases relacionadas con colecciones de elementos. Algunas colecciones pueden admitir duplicados de elementos dentro de ellas, mientras que otras no admiten duplicados. Otras colecciones pueden tener los elementos ordenados, mientras que en otras no existe orden definido entre sus elementos. Java no define ninguna implementación de esta interface y son respectivamente sus subinterfaces las que implementarán sus métodos como son por ejemplo las interfaces Set o List (que son subinterfaces de Collection).\n",
    "\n",
    "Una colección es de manera genérica un grupo de objetos llamados elementos. Esta interfaz por tanto será usada para pasar colecciones de elementos o manipularlos de la manera más general deseada.\n",
    "\n",
    "En resumen la idea es la siguiente: cuando queremos trabajar con un conjunto de elementos, necesitamos un almacén donde poder guardarlos.\n",
    "\n",
    "En Java, se emplea la interface genérica Collection para este propósito. Gracias a esta interface, podemos almacenar cualquier tipo de objeto y podemos usar una serie de métodos comunes, como pueden ser: añadir, eliminar, obtener el tamaño de la colección, etc... ya que se trata de métodos definidos por la interface que obligatoriamente han de implementar las subinterfaces o clases que hereden de ella.\n",
    "\n",
    "Collection se ramifica en subinterfaces como Set, List y otras mas.\n",
    " \n",
    "\n",
    " \n",
    "\n",
    "## Tipos de colecciones\n",
    "\n",
    "Java proporciona una serie de estructuras (intefaces, clases, etc) muy variadas para almacenar datos.\n",
    "\n",
    "El siguiente esquema resume las interfaces y clases más usadas para colecciones de datos:\n"
   ]
  },
  {
   "cell_type": "markdown",
   "metadata": {},
   "source": [
    "<img src=\"./imagenes/collection.jpg\">"
   ]
  },
  {
   "cell_type": "markdown",
   "metadata": {},
   "source": [
    "Un tipo de colecciones de objetos en Java son los Maps. A pesar de que estas estructuras denominadas “mapas” o “mapeos” son colecciones de datos, en el api de Java no derivan de la interface Collection. No obstante, muchas veces se estudian conjuntamente junto a las clases e interfaces derivadas de Collection.\n",
    "\n",
    "El siguiente esquema resume cómo se organiza la interface Collection y sus derivaciones:"
   ]
  },
  {
   "cell_type": "markdown",
   "metadata": {},
   "source": [
    "<img src=\"./imagenes/derivaciones.jpg\">"
   ]
  },
  {
   "cell_type": "markdown",
   "metadata": {},
   "source": [
    "Estas estructuras ofrecen diversas funcionalidades: ordenación de elementos o no, mejor rendimiento para la ordenación para la inserción, tipos de operaciones disponibles, etc. Es importante conocer cada una de ellas para saber cuál es la estructura más adecuada en función de la situación en que nos encontremos. Por ejemplo si necesitamos realizar miles de búsquedas al día es importante elegir una estructura que tenga buenos rendimientos para búsquedas. Si necesitamos realizar miles de inserciones manteniendo un orden es importante usar una estructura que tenga buenos rendimientos para inserciones. Un buen uso de estas estructuras mejorará el rendimiento de nuestra aplicación. Para conocer qué tipo de colección usar, podemos emplear diagramas de decisión similares al siguiente:"
   ]
  },
  {
   "cell_type": "markdown",
   "metadata": {},
   "source": [
    "<img src=\"./imagenes/orden.jpg\">"
   ]
  },
  {
   "cell_type": "markdown",
   "metadata": {},
   "source": [
    "<div class=\"alert alert-block alert-success\">\n",
    "<b>Ejemplo</b></div>"
   ]
  },
  {
   "cell_type": "markdown",
   "metadata": {},
   "source": [
    "## Tipos genéricos\n",
    "Los generics son importantes ya que permiten al compilador informar de muchos errores de compilación que hasta el momento solo se descubrirían en tiempo de ejecución, al mismo tiempo permiten eliminar los cast simplificando, reduciendo la repetición y aumentando la legibilidad el código. Los errores por cast inválido son especialmente problemáticos de debuggear ya que el error se suele producir en un sitio alejado del de la causa.\n",
    "\n",
    "Los generics permiten usar tipos para parametrizar las clases, interfaces y métodos al definirlas. Los beneficios son:\n",
    "- Comprobación de tipos más fuerte en tiempo de compilación.\n",
    "- Eliminación de casts aumentando la legibilidad del código.\n",
    "- Posibilidad de implementar algoritmos genéricos, con tipado seguro.\n",
    "\n",
    "Un tipo usando generics tiene el siguiente aspecto, por ejemplo usando una clase Box contenedor de una referencia a un tipo no determinado en la definición de la clase pero que lo será en su uso. Una clase genérica puede tener múltiples argumentos de tipos y los argumentos pueden ser a su vez tipos genéricos. Después del nombre de la clase se puede indicar la lista de parámetros de tipos con el formato <T1, T2, T3, …>."
   ]
  },
  {
   "cell_type": "code",
   "execution_count": null,
   "metadata": {},
   "outputs": [],
   "source": []
  }
 ],
 "metadata": {
  "kernelspec": {
   "display_name": "Python 3",
   "language": "python",
   "name": "python3"
  },
  "language_info": {
   "codemirror_mode": {
    "name": "ipython",
    "version": 3
   },
   "file_extension": ".py",
   "mimetype": "text/x-python",
   "name": "python",
   "nbconvert_exporter": "python",
   "pygments_lexer": "ipython3",
   "version": "3.7.0"
  }
 },
 "nbformat": 4,
 "nbformat_minor": 2
}
