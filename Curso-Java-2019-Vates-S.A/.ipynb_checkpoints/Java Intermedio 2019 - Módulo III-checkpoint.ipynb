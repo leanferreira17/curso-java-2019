{
 "cells": [
  {
   "cell_type": "markdown",
   "metadata": {},
   "source": [
    "# Java Intermedio - Módulo III"
   ]
  },
  {
   "cell_type": "markdown",
   "metadata": {},
   "source": [
    "# Proxima semana las clases seran miercoles y jueves de 18 a 19:30hs"
   ]
  },
  {
   "cell_type": "markdown",
   "metadata": {},
   "source": [
    "### Programa"
   ]
  },
  {
   "cell_type": "markdown",
   "metadata": {},
   "source": [
    "Tipos genéricos y colecciones. Interfaces. List, Set, Queue, Map. Formas de iterar a través de colecciones. Patrones de diseño. Utilización de librerías externas. Introducción a Maven, Hibernate y Java Persistence API (JPA)."
   ]
  },
  {
   "cell_type": "markdown",
   "metadata": {},
   "source": [
    "## Interfaces\n",
    "Una interfaz es como una clase Java pero solo tiene constantes estáticas y métodos abstractos. Java usa la interfaz para implementar herencia múltiple. Una clase Java puede implementar múltiples interfaces Java. Todos los métodos en una interfaz son implícitamente públicos y abstractos.\n",
    "\n",
    "\n",
    "## Diferencias entre Interfaces y Clases Abstractas\n",
    "\n",
    " - La diferencia principal es que los métodos de las interfaces son implicitamente abstractos y no pueden tener implementaciones. Una clase abstracta Java puede tener métodos de instancia que implementan un comportamiento por default.\n",
    " - Todas las variables declaradas en una interface son de tipo final por default. Una clase abstracta puede contener variables que no sean final.\n",
    " - Los miembros de una interface son publicos por default. En una clase abstracta los miembros pueden ser private, public, protected. \n",
    " - Una interface deberia ser implementada utilizando la palabra reservada \"implements\"; una clase abstracta deberia ser heredada utilizando la palabra \"extends\". \n",
    " - Una interface puede heredar solo de otra interface, una clase abstracta puede heredar de otra clase e implementar multiples interfaces.\n",
    " - Una clase puede implementar múltiples interfaces pero solo puede heredar de una clase padre.\n",
    " \n",
    "## Collection\n",
    "\n",
    "Esta interfaz es “la raíz” de todas las interfaces y clases relacionadas con colecciones de elementos. Algunas colecciones pueden admitir duplicados de elementos dentro de ellas, mientras que otras no admiten duplicados. Otras colecciones pueden tener los elementos ordenados, mientras que en otras no existe orden definido entre sus elementos. Java no define ninguna implementación de esta interface y son respectivamente sus subinterfaces las que implementarán sus métodos como son por ejemplo las interfaces Set o List (que son subinterfaces de Collection).\n",
    "\n",
    "Una colección es de manera genérica un grupo de objetos llamados elementos. Esta interfaz por tanto será usada para pasar colecciones de elementos o manipularlos de la manera más general deseada.\n",
    "\n",
    "En resumen la idea es la siguiente: cuando queremos trabajar con un conjunto de elementos, necesitamos un almacén donde poder guardarlos.\n",
    "\n",
    "En Java, se emplea la interface genérica Collection para este propósito. Gracias a esta interface, podemos almacenar cualquier tipo de objeto y podemos usar una serie de métodos comunes, como pueden ser: añadir, eliminar, obtener el tamaño de la colección, etc... ya que se trata de métodos definidos por la interface que obligatoriamente han de implementar las subinterfaces o clases que hereden de ella.\n",
    "\n",
    "Collection se ramifica en subinterfaces como Set, List y otras mas.\n",
    " \n",
    "\n",
    " \n",
    "\n",
    "## Tipos de colecciones\n",
    "\n",
    "Java proporciona una serie de estructuras (interfaces, clases, etc) muy variadas para almacenar datos.\n",
    "\n",
    "El siguiente esquema resume las interfaces y clases más usadas para colecciones de datos:\n"
   ]
  },
  {
   "cell_type": "markdown",
   "metadata": {},
   "source": [
    "<img src=\"./imagenes/collection.jpg\">"
   ]
  },
  {
   "cell_type": "markdown",
   "metadata": {},
   "source": [
    "Un tipo de colecciones de objetos en Java son los Maps. A pesar de que estas estructuras denominadas “mapas” o “mapeos” son colecciones de datos, en el api de Java no derivan de la interface Collection. No obstante, muchas veces se estudian conjuntamente junto a las clases e interfaces derivadas de Collection.\n",
    "\n",
    "El siguiente esquema resume cómo se organiza la interface Collection y sus derivaciones:"
   ]
  },
  {
   "cell_type": "markdown",
   "metadata": {},
   "source": [
    "<img src=\"./imagenes/derivaciones.jpg\">"
   ]
  },
  {
   "cell_type": "markdown",
   "metadata": {},
   "source": [
    "Estas estructuras ofrecen diversas funcionalidades: ordenación de elementos o no, mejor rendimiento para la ordenación para la inserción, tipos de operaciones disponibles, etc. Es importante conocer cada una de ellas para saber cuál es la estructura más adecuada en función de la situación en que nos encontremos. Por ejemplo si necesitamos realizar miles de búsquedas al día es importante elegir una estructura que tenga buenos rendimientos para búsquedas. Si necesitamos realizar miles de inserciones manteniendo un orden es importante usar una estructura que tenga buenos rendimientos para inserciones. Un buen uso de estas estructuras mejorará el rendimiento de nuestra aplicación. Para conocer qué tipo de colección usar, podemos emplear diagramas de decisión similares al siguiente:"
   ]
  },
  {
   "cell_type": "markdown",
   "metadata": {},
   "source": [
    "<img src=\"./imagenes/orden.jpg\">"
   ]
  },
  {
   "cell_type": "markdown",
   "metadata": {},
   "source": [
    "<div class=\"alert alert-block alert-success\">\n",
    "<b>Ejemplo</b></div>"
   ]
  },
  {
   "cell_type": "markdown",
   "metadata": {},
   "source": [
    "## Tipos genéricos\n",
    "Los generics son importantes ya que permiten al compilador informar de muchos errores de compilación que hasta el momento solo se descubrirían en tiempo de ejecución, al mismo tiempo permiten eliminar los cast simplificando, reduciendo la repetición y aumentando la legibilidad el código. Los errores por cast inválido son especialmente problemáticos de debuggear ya que el error se suele producir en un sitio alejado del de la causa.\n",
    "\n",
    "Los generics permiten usar tipos para parametrizar las clases, interfaces y métodos al definirlas. Los beneficios son:\n",
    "- Comprobación de tipos más fuerte en tiempo de compilación.\n",
    "- Eliminación de casts aumentando la legibilidad del código.\n",
    "- Posibilidad de implementar algoritmos genéricos, con tipado seguro.\n",
    "\n",
    "Los generics nos permiten manipular y operar con objetos sin especificar su tipo y posibilitan reutilizar código, además de ofrecer type safety, gracias al chequeo de tipos durante la compilación."
   ]
  },
  {
   "cell_type": "markdown",
   "metadata": {},
   "source": [
    "### Type safety\n",
    "Hace referencia a que el compilador valida los tipos mientras compila y lanza un error si se intenta asignar un tipo erroneo a una variable.\n",
    "\n",
    "Por ejemplo:\n",
    "// Este bloque falla al intentar asignar un int a un String\n",
    "String one = 1;\n",
    "// también falla\n",
    "int foo = \"bar\";\n",
    "\n",
    "Esto también aplica a los argumentos de un método\n",
    "\n",
    "int AddTwoNumbers(int a, int b)\n",
    "{\n",
    "    return a + b;\n",
    "}\n",
    "\n",
    "Al intentar llamar al método\n",
    "\n",
    "int Sum = AddTwoNumbers(5, \"5\");\n",
    "\n",
    "El compilador lanzaria un error ya que estamos pasando un String (\"5\") y está esperando un int."
   ]
  },
  {
   "cell_type": "markdown",
   "metadata": {},
   "source": [
    "### Convención de nombres\n",
    "\n",
    "Dado que se trata de tipos genéricos, su nomenclatura no afecta su comportamiento y podría designarse cualquier nombre para un genérico en Java. Sin embargo, existen convenciones para los nombres de estos tipos cuyo objetivo es mejorar la legibilidad e interpretación del código. Algunas de importancia son:\n",
    "\n",
    " - E – Element.\n",
    " - K – Key.\n",
    " - V – Value.\n",
    " - N – Number.\n",
    " - T – Type.\n",
    " - S, U, V, y así sucesivamente, para más tipos.\n",
    "\n",
    "\n",
    "### Ventajas (y desventaja)\n",
    "\n",
    "Entre los pros de utilizar generics, podemos destacar:\n",
    "\n",
    "- Permite la reutilización de código: es posible utilizar el mismo código para tipos diferentes.\n",
    "- Evita el casteo de clases (por casteo entendemos realizar cambios entre tipos de datos distintos, donde chocan tipos de valores de datos).\n",
    "- Código de mayor calidad, legible y limpio, si se utilizan las convenciones con criterio.\n",
    "- Type safety: código más seguro, ya que reduce las oportunidades de que se introduzca un error.\n",
    "- Rapidez de ejecución, dado que no hay chequeo de tipos en este tiempo. El casteo, en cambio, requiere que la JVM haga chequeo de tipos en tiempo de ejecución, en caso de que sea necesario ejecutar una ClassCastException.\n",
    "- Chequeo de tipos en tiempo de compilación: el compilador verifica que se utilice la clase genérica donde se la invoca; en cambio, no lo hace cuando se invoca al tipo Object.\n",
    "- Como contra, podemos señalar cierta dificultad en la interpretación del código si no se utilizan los nombres con claridad o no se cuenta con documentación.\n",
    "\n",
    "Como contra, podemos señalar cierta dificultad en la interpretación del código si no se utilizan los nombres con claridad o no se cuenta con documentación.\n",
    "\n",
    " \n",
    "\n",
    "### Type erasure\n",
    "\n",
    "Cuando se utilizan generics, se realizan casteos y comprobaciones de tipos en tiempo de compilación, los cuales tienen en cuenta la información almacenada en metadata para los tipos de generics. Por lo tanto, luego de que el compilador chequea las validaciones necesarias, elimina esa metadata en su totalidad. A este proceso de eliminación se lo denomina type erasure o borrado de tipos; no existe información de tipos en tiempo de ejecución y el uso de tipos para los generics se valida en tiempo de compilación.\n",
    "\n",
    " \n",
    "\n",
    "### Bounds\n",
    "\n",
    "Incluso utilizando generics, a veces se presentan ciertas restricciones respecto de los tipos, teniendo que usar -en determinados casos- tipos concretos. Por ejemplo, en el caso de que una función aplique sólo a números, se utilizan los tipos límites o bounded types.\n",
    "\n",
    "Con estos tipos, es posible limitar a los generics haciendo que se extiendan de una clase y en consecuencia, que su límite sea el de ese tipo.\n",
    "\n",
    "Además, los bounds, en generics, pueden ser múltiples (límites múltiples). Estos representan la herencia múltiple de interfaces de Java para generics y, al igual que en la herencia común, es posible extender sólo de una clase y de varias interfaces.\n",
    "\n",
    "La forma de utilizarlos es <T extends A & B1 & B2 & B3>. El orden en el que se colocan los límites es importante: si se extiende de una clase y de una -o varias- interfaces, la clase debe colocarse primero y luego las interfaces ya que, en caso contrario, habrá un error en la compilación. En este ejemplo, A sería una clase y Bn las interfaces.\n",
    "\n",
    "Los bounds pueden utilizarse en el parámetro de una clase y en los parámetros que recibe y devuelve un método. En el caso del parámetro de una clase es importante resaltar que, por ejemplo, List`<A>` es distinta a List`<B>`, aunque A se extienda de B. De la misma manera, Box`<Number>` es distinto de Box`<Integer>`.\n",
    "\n",
    " \n",
    "\n",
    "### Wildcard types\n",
    "\n",
    "Los tipos comodines o wildcard types en generics se utilizan para designar un tipo desconocido que puede ser de cualquier clase y será superclase para todas las demás. Se indica con el signo de interrogación “?”. Por ejemplo: Collection`<?>`.\n",
    "\n",
    "Pueden tener upper bounds o lower bounds para indicar que son subclases o superclases de otra clase y se indica de la siguiente forma: `<? extends someClass>`, para indicar de qué clase extiende y `<? super someClass>` para mostrar qué clase es superclase.\n",
    "\n",
    "A diferencia de los casos anteriores, al utilizar estos tipos comodines, debemos tener en cuenta que, siguiendo el ejemplo de arriba, si bien Box`<Number>` es distinto de Box`<Integer>`, ambos extienden de Box`<?>`. Lo mismo ocurriría con las listas: List`<A>` y List`<B>` extienden de List`<?>`."
   ]
  },
  {
   "cell_type": "code",
   "execution_count": null,
   "metadata": {},
   "outputs": [],
   "source": []
  }
 ],
 "metadata": {
  "kernelspec": {
   "display_name": "Python 3",
   "language": "python",
   "name": "python3"
  },
  "language_info": {
   "codemirror_mode": {
    "name": "ipython",
    "version": 3
   },
   "file_extension": ".py",
   "mimetype": "text/x-python",
   "name": "python",
   "nbconvert_exporter": "python",
   "pygments_lexer": "ipython3",
   "version": "3.7.4"
  }
 },
 "nbformat": 4,
 "nbformat_minor": 2
}
